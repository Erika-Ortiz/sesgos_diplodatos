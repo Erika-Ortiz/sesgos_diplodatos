{
 "cells": [
  {
   "cell_type": "markdown",
   "metadata": {},
   "source": [
    "# One-hot encoder "
   ]
  },
  {
   "cell_type": "code",
   "execution_count": 1,
   "metadata": {},
   "outputs": [],
   "source": [
    "import pandas as pd \n",
    "from sklearn.model_selection import train_test_split\n",
    "from sklearn.preprocessing import OneHotEncoder\n"
   ]
  },
  {
   "cell_type": "code",
   "execution_count": 2,
   "metadata": {},
   "outputs": [],
   "source": [
    "df = pd.read_csv('https://raw.githubusercontent.com/Erika-Ortiz/sesgos_diplodatos/main/datos_preprocesados.csv')"
   ]
  },
  {
   "cell_type": "code",
   "execution_count": 3,
   "metadata": {},
   "outputs": [
    {
     "data": {
      "text/html": [
       "<div>\n",
       "<style scoped>\n",
       "    .dataframe tbody tr th:only-of-type {\n",
       "        vertical-align: middle;\n",
       "    }\n",
       "\n",
       "    .dataframe tbody tr th {\n",
       "        vertical-align: top;\n",
       "    }\n",
       "\n",
       "    .dataframe thead th {\n",
       "        text-align: right;\n",
       "    }\n",
       "</style>\n",
       "<table border=\"1\" class=\"dataframe\">\n",
       "  <thead>\n",
       "    <tr style=\"text-align: right;\">\n",
       "      <th></th>\n",
       "      <th>Participante</th>\n",
       "      <th>Modalidad</th>\n",
       "      <th>Edad</th>\n",
       "      <th>Género</th>\n",
       "      <th>Grupo</th>\n",
       "      <th>Validez_sil1</th>\n",
       "      <th>Validez_sil2</th>\n",
       "      <th>Validez_sil3</th>\n",
       "      <th>Validez_sil4</th>\n",
       "      <th>Validez_sil5</th>\n",
       "      <th>...</th>\n",
       "      <th>Aceptación_sil8</th>\n",
       "      <th>Correctas_sil1</th>\n",
       "      <th>Correctas_sil2</th>\n",
       "      <th>Correctas_sil3</th>\n",
       "      <th>Correctas_sil4</th>\n",
       "      <th>Correctas_sil5</th>\n",
       "      <th>Correctas_sil6</th>\n",
       "      <th>Correctas_sil7</th>\n",
       "      <th>Correctas_sil8</th>\n",
       "      <th>indice_creencia_norm</th>\n",
       "    </tr>\n",
       "  </thead>\n",
       "  <tbody>\n",
       "    <tr>\n",
       "      <th>0</th>\n",
       "      <td>1</td>\n",
       "      <td>Resolución Individual</td>\n",
       "      <td>18</td>\n",
       "      <td>M</td>\n",
       "      <td>0</td>\n",
       "      <td>V</td>\n",
       "      <td>V</td>\n",
       "      <td>I</td>\n",
       "      <td>I</td>\n",
       "      <td>V</td>\n",
       "      <td>...</td>\n",
       "      <td>0</td>\n",
       "      <td>1</td>\n",
       "      <td>1</td>\n",
       "      <td>1</td>\n",
       "      <td>1</td>\n",
       "      <td>1</td>\n",
       "      <td>1</td>\n",
       "      <td>0</td>\n",
       "      <td>1</td>\n",
       "      <td>0.25</td>\n",
       "    </tr>\n",
       "    <tr>\n",
       "      <th>1</th>\n",
       "      <td>2</td>\n",
       "      <td>Resolución Individual</td>\n",
       "      <td>23</td>\n",
       "      <td>F</td>\n",
       "      <td>0</td>\n",
       "      <td>V</td>\n",
       "      <td>V</td>\n",
       "      <td>I</td>\n",
       "      <td>I</td>\n",
       "      <td>V</td>\n",
       "      <td>...</td>\n",
       "      <td>1</td>\n",
       "      <td>1</td>\n",
       "      <td>1</td>\n",
       "      <td>1</td>\n",
       "      <td>1</td>\n",
       "      <td>1</td>\n",
       "      <td>1</td>\n",
       "      <td>0</td>\n",
       "      <td>0</td>\n",
       "      <td>0.00</td>\n",
       "    </tr>\n",
       "    <tr>\n",
       "      <th>2</th>\n",
       "      <td>3</td>\n",
       "      <td>Resolución Individual</td>\n",
       "      <td>20</td>\n",
       "      <td>F</td>\n",
       "      <td>0</td>\n",
       "      <td>V</td>\n",
       "      <td>V</td>\n",
       "      <td>I</td>\n",
       "      <td>I</td>\n",
       "      <td>V</td>\n",
       "      <td>...</td>\n",
       "      <td>0</td>\n",
       "      <td>1</td>\n",
       "      <td>0</td>\n",
       "      <td>1</td>\n",
       "      <td>1</td>\n",
       "      <td>0</td>\n",
       "      <td>0</td>\n",
       "      <td>0</td>\n",
       "      <td>1</td>\n",
       "      <td>0.50</td>\n",
       "    </tr>\n",
       "    <tr>\n",
       "      <th>3</th>\n",
       "      <td>4</td>\n",
       "      <td>Resolución Individual</td>\n",
       "      <td>25</td>\n",
       "      <td>F</td>\n",
       "      <td>0</td>\n",
       "      <td>V</td>\n",
       "      <td>V</td>\n",
       "      <td>I</td>\n",
       "      <td>I</td>\n",
       "      <td>V</td>\n",
       "      <td>...</td>\n",
       "      <td>0</td>\n",
       "      <td>1</td>\n",
       "      <td>1</td>\n",
       "      <td>1</td>\n",
       "      <td>1</td>\n",
       "      <td>1</td>\n",
       "      <td>1</td>\n",
       "      <td>0</td>\n",
       "      <td>1</td>\n",
       "      <td>0.25</td>\n",
       "    </tr>\n",
       "    <tr>\n",
       "      <th>4</th>\n",
       "      <td>5</td>\n",
       "      <td>Resolución Individual</td>\n",
       "      <td>20</td>\n",
       "      <td>F</td>\n",
       "      <td>0</td>\n",
       "      <td>V</td>\n",
       "      <td>V</td>\n",
       "      <td>I</td>\n",
       "      <td>I</td>\n",
       "      <td>V</td>\n",
       "      <td>...</td>\n",
       "      <td>0</td>\n",
       "      <td>1</td>\n",
       "      <td>0</td>\n",
       "      <td>1</td>\n",
       "      <td>1</td>\n",
       "      <td>1</td>\n",
       "      <td>1</td>\n",
       "      <td>0</td>\n",
       "      <td>1</td>\n",
       "      <td>0.50</td>\n",
       "    </tr>\n",
       "  </tbody>\n",
       "</table>\n",
       "<p>5 rows × 46 columns</p>\n",
       "</div>"
      ],
      "text/plain": [
       "   Participante              Modalidad  Edad Género  Grupo Validez_sil1  \\\n",
       "0             1  Resolución Individual    18      M      0            V   \n",
       "1             2  Resolución Individual    23      F      0            V   \n",
       "2             3  Resolución Individual    20      F      0            V   \n",
       "3             4  Resolución Individual    25      F      0            V   \n",
       "4             5  Resolución Individual    20      F      0            V   \n",
       "\n",
       "  Validez_sil2 Validez_sil3 Validez_sil4 Validez_sil5  ... Aceptación_sil8  \\\n",
       "0            V            I            I            V  ...               0   \n",
       "1            V            I            I            V  ...               1   \n",
       "2            V            I            I            V  ...               0   \n",
       "3            V            I            I            V  ...               0   \n",
       "4            V            I            I            V  ...               0   \n",
       "\n",
       "  Correctas_sil1 Correctas_sil2 Correctas_sil3 Correctas_sil4 Correctas_sil5  \\\n",
       "0              1              1              1              1              1   \n",
       "1              1              1              1              1              1   \n",
       "2              1              0              1              1              0   \n",
       "3              1              1              1              1              1   \n",
       "4              1              0              1              1              1   \n",
       "\n",
       "  Correctas_sil6 Correctas_sil7 Correctas_sil8 indice_creencia_norm  \n",
       "0              1              0              1                 0.25  \n",
       "1              1              0              0                 0.00  \n",
       "2              0              0              1                 0.50  \n",
       "3              1              0              1                 0.25  \n",
       "4              1              0              1                 0.50  \n",
       "\n",
       "[5 rows x 46 columns]"
      ]
     },
     "execution_count": 3,
     "metadata": {},
     "output_type": "execute_result"
    }
   ],
   "source": [
    "df.head()"
   ]
  },
  {
   "cell_type": "markdown",
   "metadata": {},
   "source": [
    "Separamos nuestra variable objetivo de las características que utilizaremos para entrenar nuestro modelo. \n",
    "\n",
    "Supongamos que deseamos hacer un entrenamiento usando las columnas de `Edad` y `Modalidad`: "
   ]
  },
  {
   "cell_type": "code",
   "execution_count": 4,
   "metadata": {},
   "outputs": [],
   "source": [
    "X = df[['Edad','Modalidad']]\n",
    "y= df['indice_creencia_norm']"
   ]
  },
  {
   "cell_type": "markdown",
   "metadata": {},
   "source": [
    "## División en conjuntos de train y test\n",
    "Como les comentaba en el grupo, la división en train y test la hacemos antes de aplicar cualquier transformación en los datos. \n",
    "\n",
    "Les paso un [post](https://www.linkedin.com/feed/update/urn:li:activity:7102606015589699584?updateEntityUrn=urn%3Ali%3Afs_feedUpdate%3A%28V2%2Curn%3Ali%3Aactivity%3A7102606015589699584%29) de LinkedIn sobre el tema (Si tienen cuenta en esta red les recomiendo seguir a la autora del post porque da tips interesantes y muy instructivos)"
   ]
  },
  {
   "cell_type": "code",
   "execution_count": 5,
   "metadata": {},
   "outputs": [],
   "source": [
    "X_train, X_test, y_train, y_test = train_test_split(X, y, test_size=0.1, random_state=42)"
   ]
  },
  {
   "cell_type": "markdown",
   "metadata": {},
   "source": [
    "Podemos ver la forma de nuestros conjuntos para luego chequear que, con las transformaciones, tengamos el número correcto de filas y columnas:"
   ]
  },
  {
   "cell_type": "code",
   "execution_count": 6,
   "metadata": {},
   "outputs": [
    {
     "name": "stdout",
     "output_type": "stream",
     "text": [
      "Conjunto de train: 525 filas y 2 columnas.\n",
      "Conjunto de test: 59 filas y 2 columnas. \n"
     ]
    }
   ],
   "source": [
    "print(f\"\"\"Conjunto de train: {X_train.shape[0]} filas y {X_train.shape[1]} columnas.\n",
    "Conjunto de test: {X_test.shape[0]} filas y {X_test.shape[1]} columnas. \"\"\")"
   ]
  },
  {
   "cell_type": "markdown",
   "metadata": {},
   "source": [
    "## Codificación de variables categóricas"
   ]
  },
  {
   "cell_type": "markdown",
   "metadata": {},
   "source": [
    "La columna `Modalidad` contiene datos categóricos, veamos cómo codificarlos usando `OneHotEncoder` de scikit-learn.\n",
    "\n",
    "Este método encuentra los valores únicos y transforma los datos a una codificación binaria. Sabemos, por lo que hemos trabajado en los prácticos anteriores, que tenemos cinco modalidades de resolución (valores únicos):"
   ]
  },
  {
   "cell_type": "code",
   "execution_count": 7,
   "metadata": {},
   "outputs": [
    {
     "name": "stdout",
     "output_type": "stream",
     "text": [
      "Resolución Individual\n",
      "Resolución Grupal\n",
      "Grupal entre sujetos\n",
      "Resolución Individual Post\n",
      "Resolución Individual Pre\n"
     ]
    }
   ],
   "source": [
    "print(*X['Modalidad'].unique(), sep='\\n')"
   ]
  },
  {
   "cell_type": "code",
   "execution_count": 8,
   "metadata": {},
   "outputs": [],
   "source": [
    "ohe_enc = OneHotEncoder(sparse_output=False)"
   ]
  },
  {
   "cell_type": "code",
   "execution_count": 9,
   "metadata": {},
   "outputs": [],
   "source": [
    "mod_enc_train = ohe_enc.fit_transform(X_train[['Modalidad']])\n",
    "mod_enc_test = ohe_enc.transform(X_test[['Modalidad']])"
   ]
  },
  {
   "cell_type": "markdown",
   "metadata": {},
   "source": [
    "Podemos chequear que los arrays que se generan tienen la forma correcta:"
   ]
  },
  {
   "cell_type": "code",
   "execution_count": 10,
   "metadata": {},
   "outputs": [
    {
     "name": "stdout",
     "output_type": "stream",
     "text": [
      "(525, 5)\n",
      "(59, 5)\n"
     ]
    }
   ],
   "source": [
    "print(mod_enc_train.shape)\n",
    "print(mod_enc_test.shape)"
   ]
  },
  {
   "cell_type": "markdown",
   "metadata": {},
   "source": [
    "En el paso siguiente, agregamos las columnas generadas por el encoder y eliminamos la columna original. \n",
    "\n",
    "Debemos prestar atención a los índices para evitar la generación de columnas o filas extras. Con este fin, en el siguiente código aplicamos `.reset_index(drop=True)`"
   ]
  },
  {
   "cell_type": "code",
   "execution_count": 11,
   "metadata": {},
   "outputs": [],
   "source": [
    "X_train_encoded = pd.concat([X_train.drop('Modalidad', axis=1).reset_index(drop=True), \n",
    "                            pd.DataFrame(mod_enc_train)], axis=1)\n",
    "\n",
    "X_test_encoded = pd.concat([X_test.drop('Modalidad', axis=1).reset_index(drop=True), \n",
    "                           pd.DataFrame(mod_enc_test)], axis=1)"
   ]
  },
  {
   "cell_type": "markdown",
   "metadata": {},
   "source": [
    "Chequeamos si tenemos el número correcto de filas y columnas:"
   ]
  },
  {
   "cell_type": "code",
   "execution_count": 12,
   "metadata": {},
   "outputs": [
    {
     "name": "stdout",
     "output_type": "stream",
     "text": [
      "Conjunto de train con columna categórica codificada: 525 filas y 6 columnas.\n",
      "Conjunto de test con columna categórica codificada: 59 filas y 6 columnas. \n"
     ]
    }
   ],
   "source": [
    "print(f\"\"\"Conjunto de train con columna categórica codificada: {X_train_encoded.shape[0]} filas y {X_train_encoded.shape[1]} columnas.\n",
    "Conjunto de test con columna categórica codificada: {X_test_encoded.shape[0]} filas y {X_test_encoded.shape[1]} columnas. \"\"\")"
   ]
  },
  {
   "cell_type": "markdown",
   "metadata": {},
   "source": [
    "Vemos que el número de filas se mantiene y contamos con 6 columnas: una correspondiente a la columna `Edad` y, de las restantes cinco, una por cada valor único de la columna `Modalidad`: "
   ]
  },
  {
   "cell_type": "code",
   "execution_count": 13,
   "metadata": {},
   "outputs": [
    {
     "data": {
      "text/html": [
       "<div>\n",
       "<style scoped>\n",
       "    .dataframe tbody tr th:only-of-type {\n",
       "        vertical-align: middle;\n",
       "    }\n",
       "\n",
       "    .dataframe tbody tr th {\n",
       "        vertical-align: top;\n",
       "    }\n",
       "\n",
       "    .dataframe thead th {\n",
       "        text-align: right;\n",
       "    }\n",
       "</style>\n",
       "<table border=\"1\" class=\"dataframe\">\n",
       "  <thead>\n",
       "    <tr style=\"text-align: right;\">\n",
       "      <th></th>\n",
       "      <th>Edad</th>\n",
       "      <th>0</th>\n",
       "      <th>1</th>\n",
       "      <th>2</th>\n",
       "      <th>3</th>\n",
       "      <th>4</th>\n",
       "    </tr>\n",
       "  </thead>\n",
       "  <tbody>\n",
       "    <tr>\n",
       "      <th>0</th>\n",
       "      <td>18</td>\n",
       "      <td>1.0</td>\n",
       "      <td>0.0</td>\n",
       "      <td>0.0</td>\n",
       "      <td>0.0</td>\n",
       "      <td>0.0</td>\n",
       "    </tr>\n",
       "    <tr>\n",
       "      <th>1</th>\n",
       "      <td>23</td>\n",
       "      <td>0.0</td>\n",
       "      <td>0.0</td>\n",
       "      <td>1.0</td>\n",
       "      <td>0.0</td>\n",
       "      <td>0.0</td>\n",
       "    </tr>\n",
       "    <tr>\n",
       "      <th>2</th>\n",
       "      <td>21</td>\n",
       "      <td>0.0</td>\n",
       "      <td>1.0</td>\n",
       "      <td>0.0</td>\n",
       "      <td>0.0</td>\n",
       "      <td>0.0</td>\n",
       "    </tr>\n",
       "    <tr>\n",
       "      <th>3</th>\n",
       "      <td>19</td>\n",
       "      <td>0.0</td>\n",
       "      <td>0.0</td>\n",
       "      <td>0.0</td>\n",
       "      <td>0.0</td>\n",
       "      <td>1.0</td>\n",
       "    </tr>\n",
       "    <tr>\n",
       "      <th>4</th>\n",
       "      <td>20</td>\n",
       "      <td>0.0</td>\n",
       "      <td>0.0</td>\n",
       "      <td>1.0</td>\n",
       "      <td>0.0</td>\n",
       "      <td>0.0</td>\n",
       "    </tr>\n",
       "  </tbody>\n",
       "</table>\n",
       "</div>"
      ],
      "text/plain": [
       "   Edad    0    1    2    3    4\n",
       "0    18  1.0  0.0  0.0  0.0  0.0\n",
       "1    23  0.0  0.0  1.0  0.0  0.0\n",
       "2    21  0.0  1.0  0.0  0.0  0.0\n",
       "3    19  0.0  0.0  0.0  0.0  1.0\n",
       "4    20  0.0  0.0  1.0  0.0  0.0"
      ]
     },
     "execution_count": 13,
     "metadata": {},
     "output_type": "execute_result"
    }
   ],
   "source": [
    "X_train_encoded.head()"
   ]
  },
  {
   "cell_type": "markdown",
   "metadata": {},
   "source": [
    "Ahora bien, notemos que los nombres de las columnas creadas por el codificador one-hot son números del 1 al 5. Si queremos que nuestras tengan como nombres los valores que encontrabamos en la columna original podemos utilizar el método `.categories_`: "
   ]
  },
  {
   "cell_type": "code",
   "execution_count": 14,
   "metadata": {},
   "outputs": [],
   "source": [
    "X_train_enc_2 = pd.concat([X_train['Edad'].reset_index(drop=True),\n",
    "                              pd.DataFrame(mod_enc_train, columns = ohe_enc.categories_[0])],  axis = 1)\n",
    "X_test_enc_2 = pd.concat([X_test['Edad'].reset_index(drop=True),\n",
    "                              pd.DataFrame(mod_enc_test, columns = ohe_enc.categories_[0])],  axis = 1)"
   ]
  },
  {
   "cell_type": "code",
   "execution_count": 15,
   "metadata": {},
   "outputs": [
    {
     "data": {
      "text/html": [
       "<div>\n",
       "<style scoped>\n",
       "    .dataframe tbody tr th:only-of-type {\n",
       "        vertical-align: middle;\n",
       "    }\n",
       "\n",
       "    .dataframe tbody tr th {\n",
       "        vertical-align: top;\n",
       "    }\n",
       "\n",
       "    .dataframe thead th {\n",
       "        text-align: right;\n",
       "    }\n",
       "</style>\n",
       "<table border=\"1\" class=\"dataframe\">\n",
       "  <thead>\n",
       "    <tr style=\"text-align: right;\">\n",
       "      <th></th>\n",
       "      <th>Edad</th>\n",
       "      <th>Grupal entre sujetos</th>\n",
       "      <th>Resolución Grupal</th>\n",
       "      <th>Resolución Individual</th>\n",
       "      <th>Resolución Individual Post</th>\n",
       "      <th>Resolución Individual Pre</th>\n",
       "    </tr>\n",
       "  </thead>\n",
       "  <tbody>\n",
       "    <tr>\n",
       "      <th>0</th>\n",
       "      <td>18</td>\n",
       "      <td>1.0</td>\n",
       "      <td>0.0</td>\n",
       "      <td>0.0</td>\n",
       "      <td>0.0</td>\n",
       "      <td>0.0</td>\n",
       "    </tr>\n",
       "    <tr>\n",
       "      <th>1</th>\n",
       "      <td>23</td>\n",
       "      <td>0.0</td>\n",
       "      <td>0.0</td>\n",
       "      <td>1.0</td>\n",
       "      <td>0.0</td>\n",
       "      <td>0.0</td>\n",
       "    </tr>\n",
       "    <tr>\n",
       "      <th>2</th>\n",
       "      <td>21</td>\n",
       "      <td>0.0</td>\n",
       "      <td>1.0</td>\n",
       "      <td>0.0</td>\n",
       "      <td>0.0</td>\n",
       "      <td>0.0</td>\n",
       "    </tr>\n",
       "    <tr>\n",
       "      <th>3</th>\n",
       "      <td>19</td>\n",
       "      <td>0.0</td>\n",
       "      <td>0.0</td>\n",
       "      <td>0.0</td>\n",
       "      <td>0.0</td>\n",
       "      <td>1.0</td>\n",
       "    </tr>\n",
       "    <tr>\n",
       "      <th>4</th>\n",
       "      <td>20</td>\n",
       "      <td>0.0</td>\n",
       "      <td>0.0</td>\n",
       "      <td>1.0</td>\n",
       "      <td>0.0</td>\n",
       "      <td>0.0</td>\n",
       "    </tr>\n",
       "    <tr>\n",
       "      <th>...</th>\n",
       "      <td>...</td>\n",
       "      <td>...</td>\n",
       "      <td>...</td>\n",
       "      <td>...</td>\n",
       "      <td>...</td>\n",
       "      <td>...</td>\n",
       "    </tr>\n",
       "    <tr>\n",
       "      <th>520</th>\n",
       "      <td>21</td>\n",
       "      <td>0.0</td>\n",
       "      <td>0.0</td>\n",
       "      <td>1.0</td>\n",
       "      <td>0.0</td>\n",
       "      <td>0.0</td>\n",
       "    </tr>\n",
       "    <tr>\n",
       "      <th>521</th>\n",
       "      <td>22</td>\n",
       "      <td>0.0</td>\n",
       "      <td>0.0</td>\n",
       "      <td>1.0</td>\n",
       "      <td>0.0</td>\n",
       "      <td>0.0</td>\n",
       "    </tr>\n",
       "    <tr>\n",
       "      <th>522</th>\n",
       "      <td>19</td>\n",
       "      <td>0.0</td>\n",
       "      <td>0.0</td>\n",
       "      <td>0.0</td>\n",
       "      <td>1.0</td>\n",
       "      <td>0.0</td>\n",
       "    </tr>\n",
       "    <tr>\n",
       "      <th>523</th>\n",
       "      <td>18</td>\n",
       "      <td>0.0</td>\n",
       "      <td>0.0</td>\n",
       "      <td>0.0</td>\n",
       "      <td>1.0</td>\n",
       "      <td>0.0</td>\n",
       "    </tr>\n",
       "    <tr>\n",
       "      <th>524</th>\n",
       "      <td>21</td>\n",
       "      <td>0.0</td>\n",
       "      <td>0.0</td>\n",
       "      <td>1.0</td>\n",
       "      <td>0.0</td>\n",
       "      <td>0.0</td>\n",
       "    </tr>\n",
       "  </tbody>\n",
       "</table>\n",
       "<p>525 rows × 6 columns</p>\n",
       "</div>"
      ],
      "text/plain": [
       "     Edad  Grupal entre sujetos  Resolución Grupal  Resolución Individual  \\\n",
       "0      18                   1.0                0.0                    0.0   \n",
       "1      23                   0.0                0.0                    1.0   \n",
       "2      21                   0.0                1.0                    0.0   \n",
       "3      19                   0.0                0.0                    0.0   \n",
       "4      20                   0.0                0.0                    1.0   \n",
       "..    ...                   ...                ...                    ...   \n",
       "520    21                   0.0                0.0                    1.0   \n",
       "521    22                   0.0                0.0                    1.0   \n",
       "522    19                   0.0                0.0                    0.0   \n",
       "523    18                   0.0                0.0                    0.0   \n",
       "524    21                   0.0                0.0                    1.0   \n",
       "\n",
       "     Resolución Individual Post  Resolución Individual Pre  \n",
       "0                           0.0                        0.0  \n",
       "1                           0.0                        0.0  \n",
       "2                           0.0                        0.0  \n",
       "3                           0.0                        1.0  \n",
       "4                           0.0                        0.0  \n",
       "..                          ...                        ...  \n",
       "520                         0.0                        0.0  \n",
       "521                         0.0                        0.0  \n",
       "522                         1.0                        0.0  \n",
       "523                         1.0                        0.0  \n",
       "524                         0.0                        0.0  \n",
       "\n",
       "[525 rows x 6 columns]"
      ]
     },
     "execution_count": 15,
     "metadata": {},
     "output_type": "execute_result"
    }
   ],
   "source": [
    "X_train_enc_2"
   ]
  }
 ],
 "metadata": {
  "kernelspec": {
   "display_name": "Python 3",
   "language": "python",
   "name": "python3"
  },
  "language_info": {
   "codemirror_mode": {
    "name": "ipython",
    "version": 3
   },
   "file_extension": ".py",
   "mimetype": "text/x-python",
   "name": "python",
   "nbconvert_exporter": "python",
   "pygments_lexer": "ipython3",
   "version": "3.10.12"
  },
  "orig_nbformat": 4
 },
 "nbformat": 4,
 "nbformat_minor": 2
}
