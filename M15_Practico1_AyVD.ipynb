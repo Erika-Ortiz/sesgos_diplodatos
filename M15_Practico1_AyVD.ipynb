{
 "cells": [
  {
   "attachments": {},
   "cell_type": "markdown",
   "metadata": {},
   "source": [
    "# Mentoría *Sesgos Cognitivos en Razonamientos Lógicos*\n",
    "# Práctico 1: Análisis y visualización \n",
    "\n",
    "### **Fecha de entrega:** 23 de junio\n",
    "\n",
    "________________________________________________\n",
    "\n",
    "En este práctico, nos adentramos en nuestros conjuntos de datos para:\n",
    "\n",
    "- Identificar los tipos de variables que contienen.\n",
    "- Calcular tendencias, dispersión y distribución de los datos.\n",
    "- Analizar las relaciones entre las variables, utilizando gráficos que nos ayuden a visualizarlas. Prestaremos especial atención a:<br></br>\n",
    "‣ La relación entre creencia y validez.<br>\n",
    "‣ La relación entre respuestas correctas y modalidades de resolución.<br>\n",
    "\n",
    "- Utilizaremos funciones de *Seaborn* y *Matplotlib* que nos permitirán realizar visualizaciones comparativas de manera efectiva.\n",
    "\n",
    "----------------------------------"
   ]
  },
  {
   "attachments": {},
   "cell_type": "markdown",
   "metadata": {},
   "source": [
    "## 1. Conociendo nuestros *datasets*"
   ]
  },
  {
   "cell_type": "code",
   "execution_count": null,
   "metadata": {},
   "outputs": [],
   "source": [
    "# Importar librerías"
   ]
  },
  {
   "cell_type": "code",
   "execution_count": null,
   "metadata": {},
   "outputs": [],
   "source": [
    "# creamos nuestros data frames\n",
    "df1 = None # primer estudio\n",
    "df2 = None # segundo estudio"
   ]
  },
  {
   "attachments": {},
   "cell_type": "markdown",
   "metadata": {},
   "source": [
    "#### 1.1. ¿Cuántas columnas y filas contienen los diferentes conjuntos de datos? "
   ]
  },
  {
   "attachments": {},
   "cell_type": "markdown",
   "metadata": {},
   "source": [
    "El siguiente paso es examinar las variables contenidas en nuestro dataset. Para esto, responderemos las siguientes preguntas:"
   ]
  },
  {
   "attachments": {},
   "cell_type": "markdown",
   "metadata": {},
   "source": [
    "#### 1.2. Para cada uno de nuestros conjuntos, ¿Cuántas y cuáles son las variables categóricas?¿Y las numéricas?¿Qué sucede con la columna `Edad`? "
   ]
  },
  {
   "cell_type": "code",
   "execution_count": null,
   "metadata": {},
   "outputs": [],
   "source": []
  },
  {
   "attachments": {},
   "cell_type": "markdown",
   "metadata": {},
   "source": [
    "#### 1.3. ¿Cuentan ambos *datasets* con las mismas columnas y valores para cada una de ellas?\n",
    "**Ayuda**: observe el participante 1 y los participantes 100 en adelante del primer *dataset* "
   ]
  },
  {
   "cell_type": "code",
   "execution_count": null,
   "metadata": {},
   "outputs": [],
   "source": []
  },
  {
   "attachments": {},
   "cell_type": "markdown",
   "metadata": {},
   "source": [
    "#### 1.4. Comparando nuestros conjuntos de datos, ¿Qué observa con respecto a las columnas `Edad`, `Género`, `Grupo` y `Modalidad`? "
   ]
  },
  {
   "cell_type": "code",
   "execution_count": null,
   "metadata": {},
   "outputs": [],
   "source": []
  },
  {
   "attachments": {},
   "cell_type": "markdown",
   "metadata": {},
   "source": [
    "\n",
    "#### 1.5. ¿Cuántos participantes hubo?¿Cuántos grupos se conformaron?"
   ]
  },
  {
   "cell_type": "code",
   "execution_count": null,
   "metadata": {},
   "outputs": [],
   "source": []
  },
  {
   "attachments": {},
   "cell_type": "markdown",
   "metadata": {},
   "source": [
    "\n",
    "#### 1.6. Si nos enfocamos ahora en nuestro segundo conjunto de datos y las columnas `Participante`, `Modalidad` y `Grupo`, ¿Es posible afirmar contamos con las 24 evaluaciones de argumentos para cada Participante?¿Por qué?"
   ]
  },
  {
   "cell_type": "code",
   "execution_count": null,
   "metadata": {},
   "outputs": [],
   "source": []
  },
  {
   "attachments": {},
   "cell_type": "markdown",
   "metadata": {},
   "source": [
    "## 2. Analizando nuestros datos "
   ]
  },
  {
   "attachments": {},
   "cell_type": "markdown",
   "metadata": {},
   "source": [
    "Los experimentos a partir de los cuales se recopilaron nuestros datos, fueron diseñados con los objetivos de identificar la presencia de sesgos de creencia en pruebas de razonamiento, analizar los efectos del contenido fáctico (acerca del mundo) en dichos razonamientos así como, evaluar la incidencia de diferentes modalidades (grupal o individual) en la aparición o mitigación de los sesgos.\n",
    "\n",
    "Consideramos que las variables correspondientes a las columnas `num` y `Lugar_admin` no son relevantes para las preguntas que se desea responder. Sin embargo, cabe preguntarse, acerca de la relevancia del resto de las variables. "
   ]
  },
  {
   "attachments": {},
   "cell_type": "markdown",
   "metadata": {},
   "source": [
    "#### 2.1. ¿Qué puede decir acerca de la edad de los participantes? ¿Y del género?¿Considera que estas variables pueden tener alguna relevancia para nuestro estudio?¿Por qué?"
   ]
  },
  {
   "attachments": {},
   "cell_type": "markdown",
   "metadata": {},
   "source": [
    "#### 2.2. Distribución de valores y comportamiento de los datos\n",
    "\n",
    "En este práctico tomaremos las variables de las columnas `Aceptación` y `Correctas` como variables categóricas (**1** = acepta, **0** = no acepta y **1** = correcta, **0** = incorrecta, respectivamente)"
   ]
  },
  {
   "attachments": {},
   "cell_type": "markdown",
   "metadata": {},
   "source": [
    "##### 2.2.1. Elaborar, para cada uno de los *datasets*, una tabla con conteo de frecuencia de:\n",
    "**(a)** argumentos aceptados según su validez\n",
    "\n",
    "**(b)** argumentos aceptados según su creencia\n",
    "\n",
    "**(c)** argumentos aceptado según su validez y creencia \n",
    "\n",
    "**(d)** respuestas correctas según modalidad de resolución \n"
   ]
  },
  {
   "cell_type": "code",
   "execution_count": null,
   "metadata": {},
   "outputs": [],
   "source": []
  },
  {
   "attachments": {},
   "cell_type": "markdown",
   "metadata": {},
   "source": [
    "##### 2.2.2. Elaborar gráficas comparativas (esto es, debe ser posible visualizar de forma conjunta la información de ambos conjuntos de datos) de: \n",
    "\n",
    "**(a)** El conteo de frecuencia de aceptación de cada uno de los argumentos y discriminar por validez del argumento.\n",
    "\n",
    "**(b)** El conteo de frecuencia de aceptación de cada uno de los argumentos y discriminar por creencia del argumento.\n",
    "\n",
    "**(c)**  El conteo de frecuencia de respuestas correctas para cada uno de los argumentos y discriminar por modalidad de resolución \n",
    "\n",
    "**Opcional:** incluir el porcentaje de aceptación \n",
    "\n",
    "**Tip 1**: utilizar `hue` para agregar la dimensión adicional a la visualización en función de las diferentes variables categóricas requeridas (`Validez`, `Creencia`, `Modalidad de resolución`)\n",
    "\n",
    "**Tip 2**: Utilizar [`subplot`](https://matplotlib.org/stable/gallery/subplots_axes_and_figures/subplot.html) para la visualización conjunta de los datos, pero **primero** realicen los gráficos para cada dataframe individualmente que les va a facilitar la tarea. "
   ]
  },
  {
   "cell_type": "code",
   "execution_count": null,
   "metadata": {},
   "outputs": [],
   "source": [
    "# conteo de frecuencia de aceptación de cada argumento y discriminación por validez "
   ]
  },
  {
   "cell_type": "code",
   "execution_count": null,
   "metadata": {},
   "outputs": [],
   "source": [
    "# conteo de frecuencia de aceptación de cada argumento y discriminación por creencia"
   ]
  },
  {
   "cell_type": "code",
   "execution_count": null,
   "metadata": {},
   "outputs": [],
   "source": [
    "# conteo de frecuencia de respuestas correctas y discriminación por modalidad de resolución "
   ]
  },
  {
   "attachments": {},
   "cell_type": "markdown",
   "metadata": {},
   "source": [
    "## 3. Relaciones entre variables"
   ]
  },
  {
   "attachments": {},
   "cell_type": "markdown",
   "metadata": {},
   "source": [
    "Podemos expresar los objetivos mencionados anteriormente en términos de determinar si hay una correlación entre las siguientes variables:\n",
    "\n",
    "- Validez y creencia del argumento, y su aceptación.\n",
    "- Modalidad de resolución y respuesta correcta.\n",
    "\n",
    "En otras palabras, queremos investigar si hay una relación entre la validez y la creencia del argumento y si esto influye en su aceptación. Además, también nos interesa explorar si la forma en que se resuelve un problema afecta la probabilidad de obtener una respuesta correcta."
   ]
  },
  {
   "attachments": {},
   "cell_type": "markdown",
   "metadata": {},
   "source": [
    "#### 3.1. Elija uno (o ambos) de los problemas mencionados arriba e indique ¿Qué tecnicas pueden utilizarse para determinar la existencia o no de correlación?¿Qué variables de nuestros conjuntos de datos entrarían en juego?"
   ]
  },
  {
   "attachments": {},
   "cell_type": "markdown",
   "metadata": {},
   "source": [
    "#### 3.1. Diseñe y lleve a cabo un test de hipótesis "
   ]
  },
  {
   "attachments": {},
   "cell_type": "markdown",
   "metadata": {},
   "source": [
    "#### 3.2. De acuerdo a la opción seleccionada y las tareas realizadas, **¿Puede afirmar que existe una correlación entre las variables consideradas?¿Por qué?**\n",
    "\n",
    "\n",
    "\n",
    "\n",
    "\n"
   ]
  },
  {
   "attachments": {},
   "cell_type": "markdown",
   "metadata": {},
   "source": [
    "## 4. Comunicando resultados"
   ]
  },
  {
   "attachments": {},
   "cell_type": "markdown",
   "metadata": {},
   "source": [
    "Realice un informe en un archivo [markdown](https://www.markdownguide.org/getting-started/) de lo realizado a lo largo de esta actividad práctica, que incluya: \n",
    "\n",
    "- Aspectos de interés del conjunto de datos: de dónde proviene, qué preguntas/problemas intenta resolver\n",
    "\n",
    "- Mención de dificultades encontradas y cómo la sortearon \n",
    "\n",
    "- Gráfica/s que consideran más saliente/s\n",
    "\n",
    "- Decisiones que tomaron (por ejemplo, en qué variables se enfocaron y cuáles dejaron de lado)\n",
    "\n",
    "- Resultados obtenidos\n",
    "\n",
    "- Preguntas que se les plantearon a partir de los resultados y opciones de profundización\n",
    "\n",
    "Les dejo [aquí](https://gist.github.com/cuonggt/9b7d08a597b167299f0d) una guía para el uso de archivos Markdown"
   ]
  }
 ],
 "metadata": {
  "language_info": {
   "name": "python"
  },
  "orig_nbformat": 4
 },
 "nbformat": 4,
 "nbformat_minor": 2
}
