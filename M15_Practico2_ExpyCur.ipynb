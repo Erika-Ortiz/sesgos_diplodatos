{
  "cells": [
    {
      "cell_type": "markdown",
      "metadata": {
        "id": "DcKQ6M6h2W0k"
      },
      "source": [
        "# Práctico 2: Análisis Exploratorio y Curación de Datos\n",
        "\n",
        "## Mentoría *Sesgos Cognitivos en Razonamientos Lógicos*\n",
        "\n",
        "**Fecha de entrega:** 17/07\n",
        "\n",
        "Profundizaremos en lo trabajado anteriormente y prepararemos nuestros datos para aplicar algoritmos de aprendizaje automático en el próximo práctico.\n",
        "\n",
        "- Pondremos nuestros datos en un único dataset.\n",
        "\n",
        "- Trabajaremos en la imputación de valores faltantes, conversión de datos categóricos, etc.\n",
        "\n",
        "- Una actividad destacada será la creación de una columna llamada \"índice de creencia\", que será nuestra variable a predecir en el siguiente práctico ☺\n",
        "\n",
        "<br></br>\n",
        "\n",
        "\n",
        "------------------------------------------------------------------------------------------------------------------------"
      ]
    },
    {
      "cell_type": "markdown",
      "metadata": {
        "id": "rVnXM_0W2W0q"
      },
      "source": [
        "## 1. Curación I"
      ]
    },
    {
      "cell_type": "code",
      "execution_count": null,
      "metadata": {
        "id": "4cSpvE5G2W0r"
      },
      "outputs": [],
      "source": [
        "# importación de librerías\n",
        "import pandas as pd"
      ]
    },
    {
      "cell_type": "code",
      "execution_count": null,
      "metadata": {
        "id": "TceseLMa2W0t"
      },
      "outputs": [],
      "source": [
        "# carga de dataset\n",
        "\n",
        "df1 = None # primer estudio\n",
        "df2 = None # segundo estudio"
      ]
    },
    {
      "cell_type": "markdown",
      "metadata": {
        "id": "hhHfn6kM2W0t"
      },
      "source": [
        "### 1.1. Selección de columnas relevantes\n",
        "\n",
        "Eliminen las columnas que no son relevantes para nuestro problema.\n",
        "\n",
        "*Opcional*: conservar columnas `Edad` y/o `Género`"
      ]
    },
    {
      "cell_type": "code",
      "execution_count": null,
      "metadata": {
        "id": "bzEJzZA42W0t"
      },
      "outputs": [],
      "source": []
    },
    {
      "cell_type": "markdown",
      "metadata": {
        "id": "iWXh5OAn2W0u"
      },
      "source": [
        "### 1.2. Imputación de valores"
      ]
    },
    {
      "cell_type": "markdown",
      "metadata": {
        "id": "9gJ_PtXq2W0u"
      },
      "source": [
        "**(a)** En el práctico anterior, observamos que en nuestro segundo conjunto de datos había participantes que no tenían cargadas las 8 filas correspondientes a la resolución grupal. Sin embargo, esos datos pueden ser inferidos utilizando para ello la columna `Grupo`.\n",
        "\n",
        "Completen los registros faltantes correspondientes a la `Resolución Grupal` en el segundo conjunto de datos de modo que contemos con 24 filas para cada participante."
      ]
    },
    {
      "cell_type": "code",
      "execution_count": null,
      "metadata": {
        "id": "-_Na3PW72W0v"
      },
      "outputs": [],
      "source": []
    },
    {
      "cell_type": "markdown",
      "metadata": {
        "id": "E8LdYoi-2W0v"
      },
      "source": [
        "**(b)** (Opcional) Si se conservaron las columnas `Edad` y/o `Género`, realicen la imputación de los valores faltantes en ambos conjuntos de datos. Tengan en cuenta los valores que pueden ser inferidos (cuando sí poseemos los datos de participantes) y aquellos que efectivamente son faltantes (no hay datos cargados en ninguna fila). Para el último caso, indiquen la técnica que utilizaron."
      ]
    },
    {
      "cell_type": "code",
      "execution_count": null,
      "metadata": {
        "id": "_N9GQW2w2W0v"
      },
      "outputs": [],
      "source": []
    },
    {
      "cell_type": "markdown",
      "metadata": {
        "id": "sUWVDaLJ2W0w"
      },
      "source": [
        "**(c)** (Opcional) Como ya observaron en el segundo práctico, en nuestro primer dataset los valores de la columna `grupo` son del tipo *object*, mas puntualmente, tipo *string*. Para el caso de participantes que realizaron la resolución individual este campo contiene un espacio vacío.\n",
        "\n",
        "Reemplacen este valor por el string `0` y luego convierta a valores numéricos."
      ]
    },
    {
      "cell_type": "code",
      "execution_count": null,
      "metadata": {
        "id": "Okl-zmDo2W0w"
      },
      "outputs": [],
      "source": []
    },
    {
      "cell_type": "markdown",
      "metadata": {
        "id": "JbDmEi042W0w"
      },
      "source": [
        "**(d)** Notemos con respecto a la columna `Modalidad` que el valor *Resolución Grupal* aparece en ambos conjuntos de datos. Sin embargo, en el segundo dataset la resolución grupal de la tarea tiene lugar después de una resolución individual, por lo cual convendría distinguirlas.\n",
        "\n",
        "Modifiquen los datos en el segundo dataset asignando nuevos valores a las celdas donde encontramos el valor *Resolución Grupal*."
      ]
    },
    {
      "cell_type": "code",
      "execution_count": null,
      "metadata": {
        "id": "SzhG3grF2W0w"
      },
      "outputs": [],
      "source": []
    },
    {
      "cell_type": "markdown",
      "metadata": {
        "id": "FlLHmiQ12W0x"
      },
      "source": [
        "### 1.3. Creación de columnas"
      ]
    },
    {
      "cell_type": "markdown",
      "metadata": {
        "id": "zR9VvRlH2W0x"
      },
      "source": [
        "Hasta el momento hemos completado ambos conjuntos de datos, de modo que contamos con toda la información relativa a la resolución de la tarea para cada participante.\n",
        "\n",
        "Ahora bien, cada resolución consiste en la evaluación de 8 argumentos, para poder extraer información y -posteriormente- predecir la presencia de sesgos de creencia necesitamos que nuestros datos se encuentren en un formato más conveniente.\n",
        "\n",
        "Con ese objetivo deberán crear nuevas columnas para cada argumento y sus propiedades.\n",
        "\n",
        "Tomando el primer argumento, su validez, aceptación y corrección de la respuesta, (y si conservamos género y edad) las nuevas columnas tendrán un aspecto de este tipo:  "
      ]
    },
    {
      "cell_type": "code",
      "execution_count": null,
      "metadata": {
        "id": "RS9sjbHA2W0x"
      },
      "outputs": [],
      "source": [
        "ds1 = {'Participante': [1, 2, 3, 4, 5],\n",
        "        'Edad': [18, 23, 20, 25, 20],\n",
        "        'Género': ['M', 'F', 'F', 'F', 'F'],\n",
        "        'Modalidad': ['Resolución Individual', 'Resolución Individual', 'Resolución Individual', 'Resolución Individual', 'Resolución Individual'\n",
        "],\n",
        "         'val_s_1': ['V', 'V', 'V', 'V', 'V'],\n",
        "         'acept_s_1': [1, 1, 1, 1, 1],\n",
        "         'corr_s_1': [1, 1, 1, 1, 1 ]\n",
        "}\n",
        "\n",
        "ds2 = {'Participante': [240, 240, 240, 241, 241],\n",
        "        'Edad': [19, 19, 19, 19, 19],\n",
        "        'Género': ['F', 'F', 'F', 'F', 'F'],\n",
        "        'Modalidad': ['Resolución Individual Pre', 'Resolución Individual Post', 'Resolución Grupal_ws', 'Resolución Individual Pre', 'Resolución Individual Post'\n",
        "],\n",
        "         'val_s_1': ['V', 'V', 'V', 'V', 'V'],\n",
        "         'acept_s_1': [1, 1, 1, 0, 1],\n",
        "         'corr_s_1': [1, 1, 1, 0, 1 ]\n",
        "}"
      ]
    },
    {
      "cell_type": "code",
      "execution_count": null,
      "metadata": {
        "id": "28trpxAr2W0x",
        "outputId": "b115c5ca-6863-4d51-9af8-00abc8e01a1e"
      },
      "outputs": [
        {
          "name": "stdout",
          "output_type": "stream",
          "text": [
            "Primer dataset con agregado de columnas correspondientes al primer argumento\n"
          ]
        },
        {
          "data": {
            "text/html": [
              "<div>\n",
              "<style scoped>\n",
              "    .dataframe tbody tr th:only-of-type {\n",
              "        vertical-align: middle;\n",
              "    }\n",
              "\n",
              "    .dataframe tbody tr th {\n",
              "        vertical-align: top;\n",
              "    }\n",
              "\n",
              "    .dataframe thead th {\n",
              "        text-align: right;\n",
              "    }\n",
              "</style>\n",
              "<table border=\"1\" class=\"dataframe\">\n",
              "  <thead>\n",
              "    <tr style=\"text-align: right;\">\n",
              "      <th></th>\n",
              "      <th>Participante</th>\n",
              "      <th>Edad</th>\n",
              "      <th>Género</th>\n",
              "      <th>Modalidad</th>\n",
              "      <th>val_s_1</th>\n",
              "      <th>acept_s_1</th>\n",
              "      <th>corr_s_1</th>\n",
              "    </tr>\n",
              "  </thead>\n",
              "  <tbody>\n",
              "    <tr>\n",
              "      <th>0</th>\n",
              "      <td>1</td>\n",
              "      <td>18</td>\n",
              "      <td>M</td>\n",
              "      <td>Resolución Individual</td>\n",
              "      <td>V</td>\n",
              "      <td>1</td>\n",
              "      <td>1</td>\n",
              "    </tr>\n",
              "    <tr>\n",
              "      <th>1</th>\n",
              "      <td>2</td>\n",
              "      <td>23</td>\n",
              "      <td>F</td>\n",
              "      <td>Resolución Individual</td>\n",
              "      <td>V</td>\n",
              "      <td>1</td>\n",
              "      <td>1</td>\n",
              "    </tr>\n",
              "    <tr>\n",
              "      <th>2</th>\n",
              "      <td>3</td>\n",
              "      <td>20</td>\n",
              "      <td>F</td>\n",
              "      <td>Resolución Individual</td>\n",
              "      <td>V</td>\n",
              "      <td>1</td>\n",
              "      <td>1</td>\n",
              "    </tr>\n",
              "    <tr>\n",
              "      <th>3</th>\n",
              "      <td>4</td>\n",
              "      <td>25</td>\n",
              "      <td>F</td>\n",
              "      <td>Resolución Individual</td>\n",
              "      <td>V</td>\n",
              "      <td>1</td>\n",
              "      <td>1</td>\n",
              "    </tr>\n",
              "    <tr>\n",
              "      <th>4</th>\n",
              "      <td>5</td>\n",
              "      <td>20</td>\n",
              "      <td>F</td>\n",
              "      <td>Resolución Individual</td>\n",
              "      <td>V</td>\n",
              "      <td>1</td>\n",
              "      <td>1</td>\n",
              "    </tr>\n",
              "  </tbody>\n",
              "</table>\n",
              "</div>"
            ],
            "text/plain": [
              "   Participante  Edad Género              Modalidad val_s_1  acept_s_1  \\\n",
              "0             1    18      M  Resolución Individual       V          1   \n",
              "1             2    23      F  Resolución Individual       V          1   \n",
              "2             3    20      F  Resolución Individual       V          1   \n",
              "3             4    25      F  Resolución Individual       V          1   \n",
              "4             5    20      F  Resolución Individual       V          1   \n",
              "\n",
              "   corr_s_1  \n",
              "0         1  \n",
              "1         1  \n",
              "2         1  \n",
              "3         1  \n",
              "4         1  "
            ]
          },
          "execution_count": 14,
          "metadata": {},
          "output_type": "execute_result"
        }
      ],
      "source": [
        "print('Primer dataset con agregado de columnas correspondientes al primer argumento:')\n",
        "pd.DataFrame.from_dict(ds1)"
      ]
    },
    {
      "cell_type": "code",
      "execution_count": null,
      "metadata": {
        "id": "8p1GXhZy2W0z",
        "outputId": "5041d29a-42ef-4b82-c06f-dd85fa2c0838"
      },
      "outputs": [
        {
          "name": "stdout",
          "output_type": "stream",
          "text": [
            "Segundo dataset con agregado de columnas correspondientes al primer argumento:\n"
          ]
        },
        {
          "data": {
            "text/html": [
              "<div>\n",
              "<style scoped>\n",
              "    .dataframe tbody tr th:only-of-type {\n",
              "        vertical-align: middle;\n",
              "    }\n",
              "\n",
              "    .dataframe tbody tr th {\n",
              "        vertical-align: top;\n",
              "    }\n",
              "\n",
              "    .dataframe thead th {\n",
              "        text-align: right;\n",
              "    }\n",
              "</style>\n",
              "<table border=\"1\" class=\"dataframe\">\n",
              "  <thead>\n",
              "    <tr style=\"text-align: right;\">\n",
              "      <th></th>\n",
              "      <th>Participante</th>\n",
              "      <th>Edad</th>\n",
              "      <th>Género</th>\n",
              "      <th>Modalidad</th>\n",
              "      <th>val_s_1</th>\n",
              "      <th>acept_s_1</th>\n",
              "      <th>corr_s_1</th>\n",
              "    </tr>\n",
              "  </thead>\n",
              "  <tbody>\n",
              "    <tr>\n",
              "      <th>0</th>\n",
              "      <td>240</td>\n",
              "      <td>19</td>\n",
              "      <td>F</td>\n",
              "      <td>Resolución Individual Pre</td>\n",
              "      <td>V</td>\n",
              "      <td>1</td>\n",
              "      <td>1</td>\n",
              "    </tr>\n",
              "    <tr>\n",
              "      <th>1</th>\n",
              "      <td>240</td>\n",
              "      <td>19</td>\n",
              "      <td>F</td>\n",
              "      <td>Resolución Individual Post</td>\n",
              "      <td>V</td>\n",
              "      <td>1</td>\n",
              "      <td>1</td>\n",
              "    </tr>\n",
              "    <tr>\n",
              "      <th>2</th>\n",
              "      <td>240</td>\n",
              "      <td>19</td>\n",
              "      <td>F</td>\n",
              "      <td>Resolución Grupal_ws</td>\n",
              "      <td>V</td>\n",
              "      <td>1</td>\n",
              "      <td>1</td>\n",
              "    </tr>\n",
              "    <tr>\n",
              "      <th>3</th>\n",
              "      <td>241</td>\n",
              "      <td>19</td>\n",
              "      <td>F</td>\n",
              "      <td>Resolución Individual Pre</td>\n",
              "      <td>V</td>\n",
              "      <td>0</td>\n",
              "      <td>0</td>\n",
              "    </tr>\n",
              "    <tr>\n",
              "      <th>4</th>\n",
              "      <td>241</td>\n",
              "      <td>19</td>\n",
              "      <td>F</td>\n",
              "      <td>Resolución Individual Post</td>\n",
              "      <td>V</td>\n",
              "      <td>1</td>\n",
              "      <td>1</td>\n",
              "    </tr>\n",
              "  </tbody>\n",
              "</table>\n",
              "</div>"
            ],
            "text/plain": [
              "   Participante  Edad Género                   Modalidad val_s_1  acept_s_1  \\\n",
              "0           240    19      F   Resolución Individual Pre       V          1   \n",
              "1           240    19      F  Resolución Individual Post       V          1   \n",
              "2           240    19      F        Resolución Grupal_ws       V          1   \n",
              "3           241    19      F   Resolución Individual Pre       V          0   \n",
              "4           241    19      F  Resolución Individual Post       V          1   \n",
              "\n",
              "   corr_s_1  \n",
              "0         1  \n",
              "1         1  \n",
              "2         1  \n",
              "3         0  \n",
              "4         1  "
            ]
          },
          "execution_count": 16,
          "metadata": {},
          "output_type": "execute_result"
        }
      ],
      "source": [
        "print('Segundo dataset con agregado de columnas correspondientes al primer argumento:')\n",
        "pd.DataFrame.from_dict(ds2)"
      ]
    },
    {
      "cell_type": "code",
      "execution_count": null,
      "metadata": {
        "id": "Dc_jRgJq2W0z"
      },
      "outputs": [],
      "source": []
    },
    {
      "cell_type": "markdown",
      "metadata": {
        "id": "tlJb7qQj2W0z"
      },
      "source": [
        "### 1.4. Combinando nuestros datos"
      ]
    },
    {
      "cell_type": "markdown",
      "metadata": {
        "id": "jBdHez8J2W0z"
      },
      "source": [
        "Nos encontramos en condiciones de unificar nuestros datos.\n",
        "\n",
        "Combinen los dos conjuntos en un único dataset (recuerden verificar que ambos tengan las mismas columnas)."
      ]
    },
    {
      "cell_type": "code",
      "execution_count": null,
      "metadata": {
        "id": "-TvIAn162W00"
      },
      "outputs": [],
      "source": [
        "merged_df= None"
      ]
    },
    {
      "cell_type": "markdown",
      "metadata": {
        "id": "z0M1Cpt12W00"
      },
      "source": [
        "## 2. Creando nuestra variable objetivo"
      ]
    },
    {
      "cell_type": "markdown",
      "metadata": {
        "id": "Rx3iwVL72W00"
      },
      "source": [
        "Nuestro propósito es estudiar y predecir la presencia de sesgos de creencia en razonamientos lógicos. Estos sesgos son definidos, recordemos, como la tendencia sistemática a evaluar la validez lógica de un argumento en función de la credibilidad de su conclusión. Es decir, la inclinación aceptar aquellos argumentos con conclusiones creíbles y a rechazar aquellos con conclusiones increíbles, sin importar la forma lógica de los argumentos en sí.\n",
        "\n",
        "En el práctico anterior analizamos la correlación entre las propiedades de los argumentos (validez, creencia, validez+creencia) y la aceptación de los argumentos, así como también, con la corrección de las respuestas. Estos análisis nos permitieron ir diagnosticando la presencia de sesgos.\n",
        "\n",
        "En esta segunda actividad práctica, presentaremos una métrica que nos ayudará a determinar de manera más precisa la presencia de sesgos de creencia.\n",
        "Esta métrica es el ***índice de creencia*** y se calcula, tomando la resolución de la tarea (evaluación de los argumentos) de la siguiente manera:\n",
        "<br></br>\n",
        "\n",
        "$$indice\\:de\\:creencia =  (suma\\:aceptación\\:VC + suma\\:aceptación\\:IC) - (suma\\:aceptación\\:VI + suma\\:aceptación\\:II)$$\n",
        "<br></br>\n",
        "Esta fórmula da cuenta del efecto de la creencia, cuanto mayor es el índice, mayor es el sesgo de creencia."
      ]
    },
    {
      "cell_type": "markdown",
      "metadata": {
        "id": "_vc2WG4j2W00"
      },
      "source": [
        "### 2.1. Crear una nueva columna llamada `indice_creencia` usando la fórmula provista arriba\n",
        "\n",
        "**Ayuda**:\n",
        "- En el nuevo conjunto de datos que hemos creado (`merged_df`) cada fila contiene los datos relativos a la evaluación de los 8 argumentos, a diferencia de la estructura anterior, donde los resultados estaban distribuidos en múltiples filas.\n",
        "- La nueva columna será el resultado de la aplicación de un función que utilice valores contenidos en algunas columnas creadas en el ejercicio *1.3*."
      ]
    },
    {
      "cell_type": "markdown",
      "metadata": {
        "id": "GY5Ikd1i2W00"
      },
      "source": [
        "### 2.2. Normalización\n",
        "Teniendo en cuenta que la tarea consiste en la evaluación de ocho argumentos con 2 de cada tipo. Esto es, dos argumentos válidos creíbles (VC), dos inválidos increíbles (IC), dos válidos increíbles (VI) y dos inválidos increíbles (II):\n",
        "\n",
        "**(a)** ¿Cuál es el valor máximo que puede alcanzar nuestro *indice de creencia*?\n",
        "\n",
        "**(b)** ¿y el mínimo?\n",
        "\n",
        "**(c)** A partir *(a)* y *(b)*, creen una nueva columna, llamada `indice_creencia_norm`, realizando un normalización lineal de modo tal que sus valores se encuentren ahora en el rango $[-1,1]$. De esta manera, los valores positivos indicarán la presencia de sesgos de creencia, mientras que valores negativos, su ausencia.  "
      ]
    },
    {
      "cell_type": "code",
      "execution_count": null,
      "metadata": {
        "id": "ViKqT-r52W01"
      },
      "outputs": [],
      "source": []
    },
    {
      "cell_type": "markdown",
      "metadata": {
        "id": "o_hO7DTY2W01"
      },
      "source": [
        "## 3. Exploración"
      ]
    },
    {
      "cell_type": "markdown",
      "metadata": {
        "id": "BIhIc0qW2W01"
      },
      "source": [
        "Ahora que contamos con una columna con el índice de creencia, realicen una análisis exploratorio de datos. Pueden utilizar como guía las siguientes preguntas e incluir cualquier otra que les surga durante la exploración:\n",
        "\n",
        "- ¿Cómo es la distribución de los valores del índice de creencia?\n",
        "\n",
        "- ¿Tiene incidencia la modalidad de resolución en la aparición de sesgos?\n",
        "\n",
        "- Si conservaron las columnas de `Edad` y `Género`, ¿afectan la edad y género de lxs participantes a la presencia de sesgos?\n",
        "\n",
        "- ¿Son similares los resultados hallados utilizando la columna `indice_creencia_norm` con los obtenidos en la primera actividad práctica?\n",
        "\n",
        "- ¿Resulta de utilidad para el análisis de los datos esta última columna añadida?\n",
        "\n",
        "Pueden también utilizar gráficas que permitan ilustrar y comparar resultados."
      ]
    },
    {
      "cell_type": "code",
      "execution_count": null,
      "metadata": {
        "id": "pVFewvAu2W01"
      },
      "outputs": [],
      "source": []
    },
    {
      "cell_type": "markdown",
      "metadata": {
        "id": "zqNbjsg72W01"
      },
      "source": [
        "## 4. Curación II"
      ]
    },
    {
      "cell_type": "markdown",
      "metadata": {
        "id": "GmQ2Zgdc2W01"
      },
      "source": [
        "\n",
        "Hemos realizado una transformación en la estructura original de nuestros datos, lo cual nos ha permitido analizar otros aspectos de los mismos. Sin embargo, aún existen varias columnas con valores de tipo categórico. Como han aprendido en las clases teóricas, podemos realizar análisis de datos categóricos, pero no podremos aplicar algoritmos de aprendizaje automático para predecir la variable objetivo que hemos creado (índice de creencia).\n",
        "\n",
        "En esta etapa, llevaremos a cabo un último tratamiento de los datos con el objetivo de prepararlos para la aplicación de algoritmos de aprendizaje automático."
      ]
    },
    {
      "cell_type": "markdown",
      "metadata": {
        "id": "be7G4ILF2W01"
      },
      "source": [
        "### 4.1. Eliminar las columnas no relevantes al problema\n",
        "\n",
        "(Opcional) sólo aplicable si aún quedan columnas irrelevantes"
      ]
    },
    {
      "cell_type": "code",
      "execution_count": null,
      "metadata": {
        "id": "9wK6sQLz2W01"
      },
      "outputs": [],
      "source": []
    },
    {
      "cell_type": "markdown",
      "metadata": {
        "id": "9m2DDy442W01"
      },
      "source": [
        "### 4.2. Codificación de variables categóricas\n",
        "\n",
        "Codifiquen las variables categóricas y eliminen las columnas originales"
      ]
    },
    {
      "cell_type": "code",
      "execution_count": null,
      "metadata": {
        "id": "E9QeF_q32W02"
      },
      "outputs": [],
      "source": []
    },
    {
      "cell_type": "markdown",
      "metadata": {
        "id": "UG9YX81e2W02"
      },
      "source": [
        "### 4.3. Datos curados\n",
        "\n",
        "Guardar el dataframe con los datos transformados en un nuevo archivo .csv : `datos_preprocesados_grupo_1.csv` ó `datos_preprocesados_grupo_2.csv`, según corresponda"
      ]
    },
    {
      "cell_type": "code",
      "execution_count": null,
      "metadata": {
        "id": "ofZLIWPw2W09"
      },
      "outputs": [],
      "source": []
    },
    {
      "cell_type": "markdown",
      "metadata": {
        "id": "fBVJfjGv2W09"
      },
      "source": [
        "## 5. Conclusiones\n"
      ]
    },
    {
      "cell_type": "markdown",
      "metadata": {
        "id": "BSdladvZ2W09"
      },
      "source": [
        "Elaboren un breve informe de lo realizado durante esta actividad práctica reseñando aspectos salientes, dificultades encontradas, etc."
      ]
    },
    {
      "cell_type": "markdown",
      "metadata": {
        "id": "WcRSF23B2W09"
      },
      "source": [
        "---------------------------------------------------------------------------------------------------------------------------------------------------------\n",
        "\n",
        "\n",
        "# ¡Felicitaciones! Han completado la primera parte de nuestra mentoría y ya tenemos nuestros datos listos para aplicar algoritmos de aprendizaje automático ☺"
      ]
    }
  ],
  "metadata": {
    "kernelspec": {
      "display_name": "Python 3",
      "language": "python",
      "name": "python3"
    },
    "language_info": {
      "codemirror_mode": {
        "name": "ipython",
        "version": 3
      },
      "file_extension": ".py",
      "mimetype": "text/x-python",
      "name": "python",
      "nbconvert_exporter": "python",
      "pygments_lexer": "ipython3",
      "version": "3.10.6"
    },
    "orig_nbformat": 4,
    "colab": {
      "provenance": []
    }
  },
  "nbformat": 4,
  "nbformat_minor": 0
}