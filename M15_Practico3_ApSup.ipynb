{
  "cells": [
    {
      "cell_type": "markdown",
      "metadata": {
        "id": "g_5lCR5tGmRT"
      },
      "source": [
        "# Práctico 3: Aprendizaje Supervisado\n",
        "\n",
        "## Mentoría *Sesgos Cognitivos en Razonamientos Lógicos*\n",
        "\n",
        "**Fecha de entrega:** 11/09\n",
        "\n",
        "\n",
        "Aplicaremos algoritmos de regresión de aprendizaje supervisado para predecir los índices de creencias en razonamientos lógicos y así detectar posibles sesgos.\n",
        "\n",
        "- Comenzaremos utilizando un modelo base (baseline model) como referencia para comparar con otros modelos en la resolución de nuestro problema.\n",
        "\n",
        "- Realizaremos optimización de hiperpárametros utilizando técnicas como grid search y random search.\n",
        "\n",
        "- Seleccionaremos métricas de error como MAE, MSE y RMSE, para evaluar nuestros modelos\n",
        "\n",
        "- Opcionalmente, veremos cómo transformar nuestro problema de regresión en un problema de clasificación binaria\n",
        "\n",
        "<br></br>\n",
        "\n",
        "\n",
        "------------------------------------------------------------------------------------------------------------------------"
      ]
    },
    {
      "cell_type": "markdown",
      "metadata": {
        "id": "Cll_Ia6fGmRV"
      },
      "source": [
        "## 1. Selección de características y división en conjunto de entrenamiento y conjunto de prueba"
      ]
    },
    {
      "cell_type": "code",
      "execution_count": null,
      "metadata": {
        "id": "jgRr-Um3GmRV"
      },
      "outputs": [],
      "source": [
        "# Carga dataset"
      ]
    },
    {
      "cell_type": "markdown",
      "metadata": {
        "id": "wQssXQQAGmRW"
      },
      "source": [
        "### 1.1. Indicar qué características se utilizaran durante el entrenamiento\n",
        "\n"
      ]
    },
    {
      "cell_type": "code",
      "execution_count": null,
      "metadata": {
        "id": "J0it49OcGmRW"
      },
      "outputs": [],
      "source": [
        "# Columnas (características de interés)"
      ]
    },
    {
      "cell_type": "markdown",
      "metadata": {
        "id": "dmGifoHwGmRX"
      },
      "source": [
        "### 1.2. Utilizar esta sección para llevar a cabo cualquier acción que consideren necesaria para pasar a la división y el posterior entrenamiento\n",
        "\n",
        "**Nota**: Recuerden insertar comentarios en el código indicando las acciones que llevan a cabo con su justificación"
      ]
    },
    {
      "cell_type": "code",
      "execution_count": null,
      "metadata": {
        "id": "v4lUP3M4GmRX"
      },
      "outputs": [],
      "source": []
    },
    {
      "cell_type": "markdown",
      "metadata": {
        "id": "sxq1jrV0GmRX"
      },
      "source": [
        "### 1.3. Dividir en conjunto de entrenamiento y prueba"
      ]
    },
    {
      "cell_type": "code",
      "execution_count": null,
      "metadata": {
        "id": "6rBp_0jLGmRY"
      },
      "outputs": [],
      "source": [
        "# Dividir en train y test"
      ]
    },
    {
      "cell_type": "markdown",
      "metadata": {
        "id": "GubAUeayGmRY"
      },
      "source": [
        "## 2. Modelo base\n",
        "\n",
        "En cada proyecto, es útil crear un modelo de referencia que implemente un algoritmo muy simple. Esto nos permite comparar nuestros resultados posteriores con el modelo base y ver si estamos mejorando."
      ]
    },
    {
      "cell_type": "markdown",
      "metadata": {
        "id": "RM1k54CaGmRZ"
      },
      "source": [
        "### 2.1.  Crear un modelo que siempre devuelva el índice de creencia promedio.\n",
        "\n",
        "**Ayuda:** scikit-learn cuenta con la clase [DummyRegressor](https://scikit-learn.org/stable/modules/generated/sklearn.dummy.DummyRegressor.html) que es muy útil para esta tarea."
      ]
    },
    {
      "cell_type": "code",
      "execution_count": null,
      "metadata": {
        "id": "m586r9aYGmRZ"
      },
      "outputs": [],
      "source": [
        "# Instanciar modelo y obtener predicciones"
      ]
    },
    {
      "cell_type": "markdown",
      "metadata": {
        "id": "MJS0-FIzGmRZ"
      },
      "source": [
        "### 2.2 Evaluación"
      ]
    },
    {
      "cell_type": "markdown",
      "metadata": {
        "id": "5UV7PVstGmRZ"
      },
      "source": [
        "Una vez que hemos entrenado nuestro modelo base y obtenido predicciones para nuestro conjunto de test, es hora de que evaluamos su performance. Para la evaluación usaremos el [error absoluto medio](https://scikit-learn.org/stable/modules/generated/sklearn.metrics.mean_absolute_error.html) (MAE por sus siglas en inglés).\n",
        "\n",
        "Adicionalmente, van a tener que elegir otra métrica de error y justificar su elección."
      ]
    },
    {
      "cell_type": "code",
      "execution_count": null,
      "metadata": {
        "id": "Z7yGdGIUGmRa"
      },
      "outputs": [],
      "source": [
        "mae_mod_base = None\n",
        "\n",
        "# Seleccione una métrica adicional para la evaluación"
      ]
    },
    {
      "cell_type": "markdown",
      "metadata": {
        "id": "lNpaEgAcGmRa"
      },
      "source": [
        "Antes de pasar a la siguiente sección vamos a llevar a cabo un pequeño test para ver que nuestro modelo base no sobrepase el valor máximo para el MAE que fijamos en $0.24$"
      ]
    },
    {
      "cell_type": "code",
      "execution_count": null,
      "metadata": {
        "id": "GtVID-YYGmRa"
      },
      "outputs": [],
      "source": [
        "# no modificar esta celda\n",
        "\n",
        "def check_mae(mae):\n",
        "    if mae <= 0.24:\n",
        "        print(f\"MAE:{mae}\")\n",
        "    else:\n",
        "        raise ValueError(f'El MAE es de {mae}, necesitan un MAE menor o igual que 0.24. Revisen las características seleccionadas')\n"
      ]
    },
    {
      "cell_type": "code",
      "execution_count": null,
      "metadata": {
        "id": "DdDoR9toGmRa"
      },
      "outputs": [],
      "source": [
        "check_mae(mae_mod_base)"
      ]
    },
    {
      "cell_type": "markdown",
      "metadata": {
        "id": "AMi-t3TiGmRa"
      },
      "source": [
        "## 2. Experimentos"
      ]
    },
    {
      "cell_type": "markdown",
      "metadata": {
        "id": "wBsYTyGQGmRa"
      },
      "source": [
        "### 2.1. Probando diferentes estimadores\n",
        "\n",
        "Utilice tres estimadores diferentes para la predicción del índice de creencia, obtenga las predicciones y realice la evaluación\n",
        "\n",
        "**Nota:** Pueden probar la cantidad de modelos que deseen, pero aquí en la notebook deben registrar sólo tres.\n"
      ]
    },
    {
      "cell_type": "code",
      "execution_count": null,
      "metadata": {
        "id": "4WXK2RN8GmRa"
      },
      "outputs": [],
      "source": [
        "# Primer estimador\n",
        "\n",
        "estimador_1 = None\n",
        "\n",
        "# train\n",
        "#TODO\n",
        "\n",
        "# predicciones\n",
        "#TODO\n",
        "\n",
        "# evaluación\n",
        "mae_est_1 = None\n",
        "\n",
        "# evaluación con métrica adicional\n",
        "#TODO"
      ]
    },
    {
      "cell_type": "code",
      "execution_count": null,
      "metadata": {
        "id": "wl3mzKdtGmRa"
      },
      "outputs": [],
      "source": [
        "# Segundo estimador\n",
        "\n",
        "estimador_2 = None\n",
        "\n",
        "# train\n",
        "#TODO\n",
        "\n",
        "# predicciones\n",
        "#TODO\n",
        "\n",
        "# evaluación\n",
        "mae_est_2 = None\n",
        "\n",
        "# evaluación con métrica adicional\n",
        "#TODO"
      ]
    },
    {
      "cell_type": "code",
      "execution_count": null,
      "metadata": {
        "id": "sFfLl4RuGmRb"
      },
      "outputs": [],
      "source": [
        "# Tercer estimador\n",
        "\n",
        "estimador_3 = None\n",
        "\n",
        "# train\n",
        "#TODO\n",
        "\n",
        "# predicciones\n",
        "#TODO\n",
        "\n",
        "# evaluación\n",
        "mae_est_3 = None\n",
        "\n",
        "# evaluación con métrica adicional\n",
        "#TODO"
      ]
    },
    {
      "cell_type": "markdown",
      "metadata": {
        "id": "jjZxWewEGmRb"
      },
      "source": [
        "### 2.2. Optimización de hiperparámetros"
      ]
    },
    {
      "cell_type": "markdown",
      "metadata": {
        "id": "RMGQvTd6GmRb"
      },
      "source": [
        "Seleccione un estimador de los utilizados en el punto anterior y lleve a cabo una optimización de hiperparámetros utilizando  [Grid Search](https://scikit-learn.org/stable/modules/generated/sklearn.model_selection.GridSearchCV.html) o [Random Search](https://scikit-learn.org/stable/modules/generated/sklearn.model_selection.RandomizedSearchCV.html).\n",
        "\n",
        "Registre las mejores métricas alcanzadas y los valores de los hiperparámetros utilizados."
      ]
    },
    {
      "cell_type": "code",
      "execution_count": null,
      "metadata": {
        "id": "OpaEwNc0GmRb"
      },
      "outputs": [],
      "source": [
        "#TODO"
      ]
    },
    {
      "cell_type": "code",
      "execution_count": null,
      "metadata": {
        "id": "4EJd0GlcGmRb"
      },
      "outputs": [],
      "source": [
        "estimador_opt = None\n",
        "\n",
        "# train\n",
        "#TODO\n",
        "\n",
        "# predicciones\n",
        "#TODO\n",
        "\n",
        "# evaluación\n",
        "mae_est_opt = None\n",
        "\n",
        "# evaluación con métrica adicional\n",
        "#TODO"
      ]
    },
    {
      "cell_type": "code",
      "execution_count": null,
      "metadata": {
        "id": "ItnHP2oKGmRc"
      },
      "outputs": [],
      "source": [
        "check_mae(mae_est_opt)"
      ]
    },
    {
      "cell_type": "markdown",
      "metadata": {
        "id": "dj62R8BOGmRc"
      },
      "source": [
        "## 3. Ingeniería de características y re-entrenamiento del modelo\n",
        "\n",
        "Como ya habrán podido observar a lo largo de la diplomatura, mucho de los procesos en ciencia de datos son iterativos. Cuando entrenamos modelos, esto implica agregar y eliminar características, modificar el escalado y la codificación, y otros tipos de acciones que nos permitan mejorar la performance de nuestro modelo.\n",
        "\n",
        "Aquí están algunas acciones que pueden llevar a cabo para mejorar el rendimiento del modelo:\n",
        "<br></br>\n",
        "- Agregar nuevas características a los datos. Esto puede ayudar al modelo a aprender más sobre los datos y a hacer mejores predicciones.\n",
        "\n",
        "- Eliminar características irrelevantes de los datos. Esto puede ayudar al modelo a evitar el sobreajuste y a mejorar su generalización.\n",
        "\n",
        "- Modificar el escalado de los datos. Esto puede ayudar al modelo a aprender más rápido y a hacer mejores predicciones.\n",
        "\n",
        "- Modificar la codificación de los datos. Esto puede ayudar al modelo a entender mejor los datos y a hacer mejores predicciones.\n",
        "\n",
        "\n",
        "<br></br>\n",
        "Una vez que hayan realizado alguna/s de estas acciones, deben reentrenar el modelo utilizado en el punto anterior.\n",
        "\n",
        "Finalmente, recuerden registrar las métricas de error, esto les ayudará a determinar si con estas acciones han mejorado el rendimiento del modelo."
      ]
    },
    {
      "cell_type": "markdown",
      "metadata": {
        "id": "Z4l-1MKKGmRc"
      },
      "source": [
        "### 3.1. Evaluación\n",
        "\n",
        "Atendiendo a lo realizado hasta ahora, responda las siguientes preguntas:\n",
        "- ¿Observan diferencias en el rendimiento del modelo base con el que empezaron y el de los diferentes modelos entrenados posteriormente?\n",
        "\n",
        "- ¿Hubo diferencias en el rendimiento del modelo con parámetros optimizados antes y después de trabajar con las características?¿Por qué considera que sucede esto?"
      ]
    },
    {
      "cell_type": "markdown",
      "metadata": {
        "id": "eq2Y-UmqGmRd"
      },
      "source": [
        "## 4. (Opcional) Replanteando nuestro problema\n",
        "\n",
        "A lo largo de esta actividad hemos abordado el problema de predecir el índice de creencia. Este índice es muy útil para observar la polarización en las respuestas y analizar aspectos más sútiles de la problemática.\n",
        "\n",
        "Sin embargo, podríamos simplemente querer predecir si tienen lugar o no dichos sesgos, sin importar su grado, con lo cual podríamos replantear nuestro problema como un problema de clasificación binaria. En este tipo de problemas, el objetivo es predecir si una instancia pertenece a una clase o a otra. En nuestro caso, las dos clases son \"presencia de sesgos\" y \"ausencia de sesgos\".\n",
        "\n",
        "\n",
        "Para hacer esto, podemos modificar nuestra columna con la variable objetivo. Los valores positivos se reemplazarán con la etiqueta $1$, que indicarán la presencia de sesgos. Mientras que, los valores iguales o menores que $0$ se reemplazarán con la etiqueta $0$, que indicarán la ausencia de sesgos.\n",
        "\n",
        "Como ejercicio opcional, los invitamos a que entrenen un modelo que emplee algoritmos de clasificación para predecir la ausencia o presencia de sesgos de creencia."
      ]
    },
    {
      "cell_type": "markdown",
      "metadata": {
        "id": "N-IV9noXGmRd"
      },
      "source": [
        "## 5. Informe"
      ]
    },
    {
      "cell_type": "markdown",
      "metadata": {
        "id": "jdlH3Cg-GmRd"
      },
      "source": [
        "Elaboren un breve informe de lo realizado durante esta actividad práctica reseñando aspectos salientes, dificultades encontradas, etc."
      ]
    }
  ],
  "metadata": {
    "kernelspec": {
      "display_name": "Python 3",
      "language": "python",
      "name": "python3"
    },
    "language_info": {
      "codemirror_mode": {
        "name": "ipython",
        "version": 3
      },
      "file_extension": ".py",
      "mimetype": "text/x-python",
      "name": "python",
      "nbconvert_exporter": "python",
      "pygments_lexer": "ipython3",
      "version": "3.10.12"
    },
    "orig_nbformat": 4,
    "colab": {
      "provenance": []
    }
  },
  "nbformat": 4,
  "nbformat_minor": 0
}